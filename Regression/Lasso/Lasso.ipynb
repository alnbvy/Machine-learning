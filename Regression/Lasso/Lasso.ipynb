{
 "cells": [
  {
   "cell_type": "markdown",
   "id": "b0f426da",
   "metadata": {},
   "source": [
    "# Miralireza Nabavi"
   ]
  },
  {
   "cell_type": "code",
   "execution_count": 1,
   "id": "cbc5690f",
   "metadata": {},
   "outputs": [],
   "source": [
    "### imports\n",
    "import numpy as np\n",
    "import pandas as pd\n",
    "import math\n",
    "import scipy as sp\n",
    "import matplotlib.pyplot as plt\n",
    "import seaborn; seaborn.set()\n",
    "\n",
    "from sklearn.linear_model import LinearRegression\n",
    "\n",
    "from sklearn.preprocessing import StandardScaler\n",
    "\n",
    "from sklearn.linear_model import Ridge\n",
    "from sklearn.linear_model import RidgeCV\n",
    "\n",
    "from sklearn.linear_model import Lasso\n",
    "from sklearn.linear_model import LassoCV\n",
    "\n",
    "from sklearn.preprocessing import LabelBinarizer\n",
    "\n",
    "from sklearn.preprocessing import PolynomialFeatures\n",
    "\n",
    "from sklearn.metrics import r2_score\n",
    "\n",
    "##sklearn model selection\n",
    "from sklearn.model_selection import train_test_split\n",
    "from sklearn.model_selection import cross_val_score\n",
    "from sklearn.model_selection import validation_curve\n",
    "from sklearn.model_selection import GridSearchCV\n",
    "\n",
    "import warnings\n",
    "warnings.filterwarnings('ignore')"
   ]
  },
  {
   "cell_type": "code",
   "execution_count": 2,
   "id": "6b91791f",
   "metadata": {
    "scrolled": true
   },
   "outputs": [
    {
     "data": {
      "text/html": [
       "<div>\n",
       "<style scoped>\n",
       "    .dataframe tbody tr th:only-of-type {\n",
       "        vertical-align: middle;\n",
       "    }\n",
       "\n",
       "    .dataframe tbody tr th {\n",
       "        vertical-align: top;\n",
       "    }\n",
       "\n",
       "    .dataframe thead th {\n",
       "        text-align: right;\n",
       "    }\n",
       "</style>\n",
       "<table border=\"1\" class=\"dataframe\">\n",
       "  <thead>\n",
       "    <tr style=\"text-align: right;\">\n",
       "      <th></th>\n",
       "      <th>price</th>\n",
       "      <th>trim</th>\n",
       "      <th>isOneOwner</th>\n",
       "      <th>mileage</th>\n",
       "      <th>year</th>\n",
       "      <th>color</th>\n",
       "      <th>displacement</th>\n",
       "    </tr>\n",
       "  </thead>\n",
       "  <tbody>\n",
       "    <tr>\n",
       "      <th>0</th>\n",
       "      <td>43995</td>\n",
       "      <td>550</td>\n",
       "      <td>f</td>\n",
       "      <td>36858.0</td>\n",
       "      <td>2008</td>\n",
       "      <td>Silver</td>\n",
       "      <td>5.5</td>\n",
       "    </tr>\n",
       "    <tr>\n",
       "      <th>1</th>\n",
       "      <td>44995</td>\n",
       "      <td>550</td>\n",
       "      <td>f</td>\n",
       "      <td>46883.0</td>\n",
       "      <td>2012</td>\n",
       "      <td>Black</td>\n",
       "      <td>4.6</td>\n",
       "    </tr>\n",
       "    <tr>\n",
       "      <th>2</th>\n",
       "      <td>25999</td>\n",
       "      <td>550</td>\n",
       "      <td>f</td>\n",
       "      <td>108759.0</td>\n",
       "      <td>2007</td>\n",
       "      <td>White</td>\n",
       "      <td>5.5</td>\n",
       "    </tr>\n",
       "    <tr>\n",
       "      <th>3</th>\n",
       "      <td>33880</td>\n",
       "      <td>550</td>\n",
       "      <td>f</td>\n",
       "      <td>35187.0</td>\n",
       "      <td>2007</td>\n",
       "      <td>Black</td>\n",
       "      <td>5.5</td>\n",
       "    </tr>\n",
       "    <tr>\n",
       "      <th>4</th>\n",
       "      <td>34895</td>\n",
       "      <td>550</td>\n",
       "      <td>f</td>\n",
       "      <td>48153.0</td>\n",
       "      <td>2007</td>\n",
       "      <td>Black</td>\n",
       "      <td>5.5</td>\n",
       "    </tr>\n",
       "    <tr>\n",
       "      <th>5</th>\n",
       "      <td>5995</td>\n",
       "      <td>500</td>\n",
       "      <td>f</td>\n",
       "      <td>121748.0</td>\n",
       "      <td>2002</td>\n",
       "      <td>other</td>\n",
       "      <td>other</td>\n",
       "    </tr>\n",
       "    <tr>\n",
       "      <th>6</th>\n",
       "      <td>21900</td>\n",
       "      <td>550</td>\n",
       "      <td>f</td>\n",
       "      <td>115280.0</td>\n",
       "      <td>2007</td>\n",
       "      <td>other</td>\n",
       "      <td>5.5</td>\n",
       "    </tr>\n",
       "    <tr>\n",
       "      <th>7</th>\n",
       "      <td>41995</td>\n",
       "      <td>other</td>\n",
       "      <td>f</td>\n",
       "      <td>36370.0</td>\n",
       "      <td>2007</td>\n",
       "      <td>Black</td>\n",
       "      <td>5.5</td>\n",
       "    </tr>\n",
       "    <tr>\n",
       "      <th>8</th>\n",
       "      <td>39882</td>\n",
       "      <td>other</td>\n",
       "      <td>f</td>\n",
       "      <td>76996.0</td>\n",
       "      <td>2008</td>\n",
       "      <td>Black</td>\n",
       "      <td>other</td>\n",
       "    </tr>\n",
       "    <tr>\n",
       "      <th>9</th>\n",
       "      <td>47995</td>\n",
       "      <td>550</td>\n",
       "      <td>f</td>\n",
       "      <td>43568.0</td>\n",
       "      <td>2011</td>\n",
       "      <td>Black</td>\n",
       "      <td>5.5</td>\n",
       "    </tr>\n",
       "  </tbody>\n",
       "</table>\n",
       "</div>"
      ],
      "text/plain": [
       "   price   trim isOneOwner   mileage  year   color displacement\n",
       "0  43995    550          f   36858.0  2008  Silver          5.5\n",
       "1  44995    550          f   46883.0  2012   Black          4.6\n",
       "2  25999    550          f  108759.0  2007   White          5.5\n",
       "3  33880    550          f   35187.0  2007   Black          5.5\n",
       "4  34895    550          f   48153.0  2007   Black          5.5\n",
       "5   5995    500          f  121748.0  2002   other        other\n",
       "6  21900    550          f  115280.0  2007   other          5.5\n",
       "7  41995  other          f   36370.0  2007   Black          5.5\n",
       "8  39882  other          f   76996.0  2008   Black        other\n",
       "9  47995    550          f   43568.0  2011   Black          5.5"
      ]
     },
     "execution_count": 2,
     "metadata": {},
     "output_type": "execute_result"
    }
   ],
   "source": [
    "cd = pd.read_csv(\"susedcars.csv\")\n",
    "cd.head(10)"
   ]
  },
  {
   "cell_type": "code",
   "execution_count": 3,
   "id": "4c0f901f",
   "metadata": {},
   "outputs": [
    {
     "data": {
      "text/plain": [
       "(1000, 7)"
      ]
     },
     "execution_count": 3,
     "metadata": {},
     "output_type": "execute_result"
    }
   ],
   "source": [
    "cd.shape"
   ]
  },
  {
   "cell_type": "code",
   "execution_count": 4,
   "id": "e3e60362",
   "metadata": {},
   "outputs": [
    {
     "data": {
      "text/plain": [
       "f    841\n",
       "t    159\n",
       "Name: isOneOwner, dtype: int64"
      ]
     },
     "execution_count": 4,
     "metadata": {},
     "output_type": "execute_result"
    }
   ],
   "source": [
    "cd['isOneOwner'].value_counts()"
   ]
  },
  {
   "cell_type": "code",
   "execution_count": 5,
   "id": "0bfaf32a",
   "metadata": {
    "scrolled": true
   },
   "outputs": [
    {
     "data": {
      "text/plain": [
       "550      591\n",
       "430      143\n",
       "other    139\n",
       "500      127\n",
       "Name: trim, dtype: int64"
      ]
     },
     "execution_count": 5,
     "metadata": {},
     "output_type": "execute_result"
    }
   ],
   "source": [
    "cd['trim'].value_counts()"
   ]
  },
  {
   "cell_type": "code",
   "execution_count": 6,
   "id": "edab1dd7",
   "metadata": {},
   "outputs": [
    {
     "data": {
      "text/plain": [
       "Black     415\n",
       "other     227\n",
       "Silver    213\n",
       "White     145\n",
       "Name: color, dtype: int64"
      ]
     },
     "execution_count": 6,
     "metadata": {},
     "output_type": "execute_result"
    }
   ],
   "source": [
    "cd['color'].value_counts()"
   ]
  },
  {
   "cell_type": "code",
   "execution_count": 7,
   "id": "82921a07",
   "metadata": {},
   "outputs": [
    {
     "data": {
      "text/plain": [
       "5.5      476\n",
       "other    387\n",
       "4.6      137\n",
       "Name: displacement, dtype: int64"
      ]
     },
     "execution_count": 7,
     "metadata": {},
     "output_type": "execute_result"
    }
   ],
   "source": [
    "cd['displacement'].value_counts()"
   ]
  },
  {
   "cell_type": "code",
   "execution_count": 8,
   "id": "7faed4f4",
   "metadata": {
    "scrolled": true
   },
   "outputs": [
    {
     "data": {
      "text/html": [
       "<div>\n",
       "<style scoped>\n",
       "    .dataframe tbody tr th:only-of-type {\n",
       "        vertical-align: middle;\n",
       "    }\n",
       "\n",
       "    .dataframe tbody tr th {\n",
       "        vertical-align: top;\n",
       "    }\n",
       "\n",
       "    .dataframe thead th {\n",
       "        text-align: right;\n",
       "    }\n",
       "</style>\n",
       "<table border=\"1\" class=\"dataframe\">\n",
       "  <thead>\n",
       "    <tr style=\"text-align: right;\">\n",
       "      <th></th>\n",
       "      <th>isOneOwner_t</th>\n",
       "      <th>trim_500</th>\n",
       "      <th>trim_550</th>\n",
       "      <th>trim_other</th>\n",
       "      <th>color_Silver</th>\n",
       "      <th>color_White</th>\n",
       "      <th>color_other</th>\n",
       "      <th>displacement_5.5</th>\n",
       "      <th>displacement_other</th>\n",
       "    </tr>\n",
       "  </thead>\n",
       "  <tbody>\n",
       "    <tr>\n",
       "      <th>0</th>\n",
       "      <td>0.0</td>\n",
       "      <td>0.0</td>\n",
       "      <td>1.0</td>\n",
       "      <td>0.0</td>\n",
       "      <td>1.0</td>\n",
       "      <td>0.0</td>\n",
       "      <td>0.0</td>\n",
       "      <td>1.0</td>\n",
       "      <td>0.0</td>\n",
       "    </tr>\n",
       "    <tr>\n",
       "      <th>1</th>\n",
       "      <td>0.0</td>\n",
       "      <td>0.0</td>\n",
       "      <td>1.0</td>\n",
       "      <td>0.0</td>\n",
       "      <td>0.0</td>\n",
       "      <td>0.0</td>\n",
       "      <td>0.0</td>\n",
       "      <td>0.0</td>\n",
       "      <td>0.0</td>\n",
       "    </tr>\n",
       "    <tr>\n",
       "      <th>2</th>\n",
       "      <td>0.0</td>\n",
       "      <td>0.0</td>\n",
       "      <td>1.0</td>\n",
       "      <td>0.0</td>\n",
       "      <td>0.0</td>\n",
       "      <td>1.0</td>\n",
       "      <td>0.0</td>\n",
       "      <td>1.0</td>\n",
       "      <td>0.0</td>\n",
       "    </tr>\n",
       "    <tr>\n",
       "      <th>3</th>\n",
       "      <td>0.0</td>\n",
       "      <td>0.0</td>\n",
       "      <td>1.0</td>\n",
       "      <td>0.0</td>\n",
       "      <td>0.0</td>\n",
       "      <td>0.0</td>\n",
       "      <td>0.0</td>\n",
       "      <td>1.0</td>\n",
       "      <td>0.0</td>\n",
       "    </tr>\n",
       "    <tr>\n",
       "      <th>4</th>\n",
       "      <td>0.0</td>\n",
       "      <td>0.0</td>\n",
       "      <td>1.0</td>\n",
       "      <td>0.0</td>\n",
       "      <td>0.0</td>\n",
       "      <td>0.0</td>\n",
       "      <td>0.0</td>\n",
       "      <td>1.0</td>\n",
       "      <td>0.0</td>\n",
       "    </tr>\n",
       "  </tbody>\n",
       "</table>\n",
       "</div>"
      ],
      "text/plain": [
       "   isOneOwner_t  trim_500  trim_550  trim_other  color_Silver  color_White  \\\n",
       "0           0.0       0.0       1.0         0.0           1.0          0.0   \n",
       "1           0.0       0.0       1.0         0.0           0.0          0.0   \n",
       "2           0.0       0.0       1.0         0.0           0.0          1.0   \n",
       "3           0.0       0.0       1.0         0.0           0.0          0.0   \n",
       "4           0.0       0.0       1.0         0.0           0.0          0.0   \n",
       "\n",
       "   color_other  displacement_5.5  displacement_other  \n",
       "0          0.0               1.0                 0.0  \n",
       "1          0.0               0.0                 0.0  \n",
       "2          0.0               1.0                 0.0  \n",
       "3          0.0               1.0                 0.0  \n",
       "4          0.0               1.0                 0.0  "
      ]
     },
     "execution_count": 8,
     "metadata": {},
     "output_type": "execute_result"
    }
   ],
   "source": [
    "cd_one_hot = pd.get_dummies(cd[['isOneOwner','trim','color','displacement']],drop_first=True)\n",
    "#X = pd.concat([cd_one_hot,cd[['mileage','year']]], axis=1)\n",
    "cd_one_hot = cd_one_hot.astype('float64')\n",
    "cd_one_hot.head()"
   ]
  },
  {
   "cell_type": "markdown",
   "id": "6f63587d",
   "metadata": {},
   "source": [
    "### I am adding all of the polynomial terms upto the fourth order for mileage and year. Thus, I have 15 features for year and mileage."
   ]
  },
  {
   "cell_type": "code",
   "execution_count": 9,
   "id": "57c4249e",
   "metadata": {
    "scrolled": true
   },
   "outputs": [
    {
     "name": "stdout",
     "output_type": "stream",
     "text": [
      "(1000, 15)\n"
     ]
    }
   ],
   "source": [
    "poly=PolynomialFeatures(degree=4)\n",
    "X_poly = poly.fit_transform(cd[['mileage','year']])\n",
    "X_poly = X_poly.astype('float64')\n",
    "print(X_poly.shape)"
   ]
  },
  {
   "cell_type": "code",
   "execution_count": 10,
   "id": "a6506a73",
   "metadata": {},
   "outputs": [
    {
     "data": {
      "text/plain": [
       "(1000, 24)"
      ]
     },
     "execution_count": 10,
     "metadata": {},
     "output_type": "execute_result"
    }
   ],
   "source": [
    "X = np.hstack([cd_one_hot.to_numpy(),X_poly])\n",
    "X.shape"
   ]
  },
  {
   "cell_type": "markdown",
   "id": "1bf391ce",
   "metadata": {},
   "source": [
    "### 15 features from year and mileage plus 9 features from dummy variables"
   ]
  },
  {
   "cell_type": "code",
   "execution_count": 11,
   "id": "d5069ed3",
   "metadata": {},
   "outputs": [
    {
     "data": {
      "text/plain": [
       "array([43995., 44995., 25999., 33880., 34895.])"
      ]
     },
     "execution_count": 11,
     "metadata": {},
     "output_type": "execute_result"
    }
   ],
   "source": [
    "Y = cd['price'].to_numpy()\n",
    "Y = Y.astype('float64')\n",
    "Y[0:5]"
   ]
  },
  {
   "cell_type": "code",
   "execution_count": 12,
   "id": "50d25c06",
   "metadata": {},
   "outputs": [
    {
     "name": "stdout",
     "output_type": "stream",
     "text": [
      "means should be 0, sds should be 1\n",
      "[-1.43995926e-16 -7.87148124e-17 -1.27675648e-16  2.61568545e-16\n",
      "  3.45501405e-16  6.42819131e-17 -3.28181926e-16  3.77475828e-18\n",
      "  1.77635684e-18  0.00000000e+00  1.00364161e-16 -1.85278459e-14\n",
      " -3.21964677e-17  1.46105350e-16  2.60036437e-15  2.57571742e-16\n",
      "  4.09006162e-16 -8.41549053e-17 -6.78790357e-16  2.23154828e-16\n",
      " -4.61408689e-16 -1.35336187e-15  4.94937424e-16  1.74260806e-12]\n",
      "[1. 1. 1. 1. 1. 1. 1. 1. 1. 0. 1. 1. 1. 1. 1. 1. 1. 1. 1. 1. 1. 1. 1. 1.]\n"
     ]
    }
   ],
   "source": [
    "## scale\n",
    "scl = StandardScaler()\n",
    "X = scl.fit_transform(X)\n",
    "print(\"means should be 0, sds should be 1\")\n",
    "print(X.mean(axis=0))\n",
    "print(X.std(axis=0))"
   ]
  },
  {
   "cell_type": "code",
   "execution_count": 13,
   "id": "1e50d98e",
   "metadata": {},
   "outputs": [
    {
     "data": {
      "text/plain": [
       "(800, 24)"
      ]
     },
     "execution_count": 13,
     "metadata": {},
     "output_type": "execute_result"
    }
   ],
   "source": [
    "X_train, X_test, y_train, y_test = train_test_split(X, Y, test_size=0.2, random_state=42)\n",
    "X_train.shape"
   ]
  },
  {
   "cell_type": "code",
   "execution_count": 14,
   "id": "f63ec22c",
   "metadata": {},
   "outputs": [
    {
     "name": "stdout",
     "output_type": "stream",
     "text": [
      "r2 score on the test for linear regression is  0.9030385322578878\n"
     ]
    }
   ],
   "source": [
    "## simple regression\n",
    "lmod = LinearRegression()\n",
    "lmod.fit(X_train,y_train)\n",
    "\n",
    "yhatl = lmod.predict(X_test)\n",
    "\n",
    "print('r2 score on the test for linear regression is ',r2_score(y_test,yhatl))"
   ]
  },
  {
   "cell_type": "code",
   "execution_count": 15,
   "id": "edd96ee3",
   "metadata": {},
   "outputs": [
    {
     "name": "stdout",
     "output_type": "stream",
     "text": [
      "number of alphas used: 400\n",
      "count      400.000000\n",
      "mean      2337.768982\n",
      "std       3678.142666\n",
      "min         16.065665\n",
      "25%         90.346405\n",
      "50%        508.059969\n",
      "75%       2857.004638\n",
      "max      16065.664995\n",
      "dtype: float64\n"
     ]
    },
    {
     "data": {
      "image/png": "[encoded data removed]",
      "text/plain": [
       "<Figure size 432x288 with 1 Axes>"
      ]
     },
     "metadata": {},
     "output_type": "display_data"
    },
    {
     "name": "stdout",
     "output_type": "stream",
     "text": [
      "best alpha:  16.065664994610582\n",
      "coeficients at best alpha:  [   65.89078722   670.69927083  2268.99005958  3044.66553337\n",
      "  -189.6271073    643.51580757  -186.62870253 -2298.6079045\n",
      " -3097.93571045     0.         -5857.03594538  4351.6372831\n",
      "  6627.03126679 -5170.60297882  2331.69770412     0.\n",
      "  4783.75161058 -4865.69875654  1314.12434336 -4597.17710943\n",
      "     0.          7800.00714658 -5156.24247442  1108.69663972]\n",
      "number of 0 coefficents:  3\n",
      "r2 score is for linear regression with Lasso regularization is  0.8901498909387514\n"
     ]
    }
   ],
   "source": [
    "## lasso\n",
    "\n",
    "#alph = np.linspace(0,20000,10000)\n",
    "#lcv = LassoCV(cv=10, alphas=alph)\n",
    "\n",
    "lcv = LassoCV(cv=10, n_alphas=400)\n",
    "lcv.fit(X_train,y_train)\n",
    "\n",
    "# look at alphas used\n",
    "print(\"number of alphas used:\",lcv.n_alphas)\n",
    "print(pd.Series(lcv.alphas_).describe())\n",
    "\n",
    "plt.plot(lcv.alphas_)\n",
    "plt.show()\n",
    "\n",
    "#best alpha and coefficients\n",
    "print(\"best alpha: \",lcv.alpha_)\n",
    "\n",
    "#coefficents\n",
    "print(\"coeficients at best alpha: \",lcv.coef_)\n",
    "print(\"number of 0 coefficents: \",np.sum(lcv.coef_ == 0))\n",
    "\n",
    "#fitted values\n",
    "yhatL = lcv.predict(X_test)\n",
    "\n",
    "print('r2 score is for linear regression with Lasso regularization is ',r2_score(y_test,yhatL))\n"
   ]
  },
  {
   "cell_type": "code",
   "execution_count": 16,
   "id": "5ac4530e",
   "metadata": {},
   "outputs": [
    {
     "data": {
      "image/png": "[encoded data removed]",
      "text/plain": [
       "<Figure size 432x288 with 1 Axes>"
      ]
     },
     "metadata": {},
     "output_type": "display_data"
    }
   ],
   "source": [
    "#mse\n",
    "msep = lcv.mse_path_\n",
    "mses = msep.sum(axis=1) # Averaging over all folds\n",
    "plt.scatter(lcv.alphas_,mses)\n",
    "plt.xlabel('alpha'); plt.ylabel('mse')\n",
    "plt.show()"
   ]
  }
 ],
 "metadata": {
  "kernelspec": {
   "display_name": "Python 3",
   "language": "python",
   "name": "python3"
  },
  "language_info": {
   "codemirror_mode": {
    "name": "ipython",
    "version": 3
   },
   "file_extension": ".py",
   "mimetype": "text/x-python",
   "name": "python",
   "nbconvert_exporter": "python",
   "pygments_lexer": "ipython3",
   "version": "3.8.8"
  }
 },
 "nbformat": 4,
 "nbformat_minor": 5
}
